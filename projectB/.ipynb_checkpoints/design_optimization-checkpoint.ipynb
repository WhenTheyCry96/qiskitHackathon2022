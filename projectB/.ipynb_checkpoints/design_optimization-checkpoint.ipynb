{
 "cells": [
  {
   "cell_type": "code",
   "execution_count": 1,
   "id": "17421125",
   "metadata": {},
   "outputs": [
    {
     "name": "stderr",
     "output_type": "stream",
     "text": [
      "09:30PM 01s INFO [__init__]: TransmonBuilder with system_type TRANSMON registered to QuantumSystemRegistry\n",
      "09:30PM 01s INFO [__init__]: FluxoniumBuilder with system_type FLUXONIUM registered to QuantumSystemRegistry\n",
      "09:30PM 01s INFO [__init__]: TLResonatorBuilder with system_type TL_RESONATOR registered to QuantumSystemRegistry\n",
      "09:30PM 01s INFO [__init__]: LumpedResonatorBuilder with system_type LUMPED_RESONATOR registered to QuantumSystemRegistry\n"
     ]
    }
   ],
   "source": [
    "%load_ext autoreload\n",
    "%autoreload 2\n",
    "\n",
    "import os\n",
    "import warnings\n",
    "import numpy as np\n",
    "import pandas as pd\n",
    "import qiskit_metal as metal\n",
    "from numpy import pi\n",
    "from scipy.constants import c, h, pi, hbar, e\n",
    "from qiskit_metal import designs, draw, MetalGUI, Dict, Headings\n",
    "from qiskit_metal.qlibrary.qubits.transmon_pocket_6 import TransmonPocket6\n",
    "from qiskit_metal.qlibrary.qubits.transmon_pocket_cl import TransmonPocketCL\n",
    "from qiskit_metal.qlibrary.tlines.meandered import RouteMeander\n",
    "from qiskit_metal.qlibrary.terminations.open_to_ground import OpenToGround\n",
    "from qiskit_metal.qlibrary.lumped.cap_3_interdigital import Cap3Interdigital\n",
    "from qiskit_metal.qlibrary.terminations.launchpad_wb_coupled import LaunchpadWirebondCoupled\n",
    "from qiskit_metal.analyses.em.cpw_calculations import guided_wavelength\n",
    "from qiskit_metal.analyses.quantization import LOManalysis, EPRanalysis\n",
    "from qiskit_metal.analyses.quantization.lumped_capacitive import load_q3d_capacitance_matrix\n",
    "from qiskit_metal.analyses.quantization.lom_core_analysis import CompositeSystem, Cell, Subsystem, QuantumSystemRegistry\n",
    "\n",
    "ws_path = os.getcwd()\n",
    "warnings.filterwarnings(\"ignore\")\n",
    "\n",
    "design = designs.DesignPlanar()\n",
    "design.overwrite_enabled = True"
   ]
  },
  {
   "cell_type": "code",
   "execution_count": 2,
   "id": "99333e5d",
   "metadata": {},
   "outputs": [
    {
     "data": {
      "text/plain": [
       "'[8.63311117 8.42983847 8.24707774 8.06138195] mm'"
      ]
     },
     "execution_count": 2,
     "metadata": {},
     "output_type": "execute_result"
    }
   ],
   "source": [
    "#constants:\n",
    "phi0    = h/(2*e)\n",
    "varphi0 = phi0/(2*pi)\n",
    "\n",
    "# project target parameters\n",
    "f_qList = np.around(np.linspace(5.25, 5.75, 4),2) # GHz\n",
    "f_rList = f_qList + 1.8 # GHz\n",
    "L_JJList = np.around(varphi0**2/((f_qList*1e9+300e6)**2/(8*300e6))/h*1e9, 2) # nH\n",
    "\n",
    "# initial CPW readout lengths\n",
    "def find_resonator_length(frequency, line_width, line_gap, N): \n",
    "    #frequency in GHz\n",
    "    #line_width/line_gap in um\n",
    "    #N -> 2 for lambda/2, 4 for lambda/4\n",
    "    \n",
    "    [lambdaG, etfSqrt, q] = guided_wavelength(frequency*10**9, line_width*10**-6,\n",
    "                                              line_gap*10**-6, 750*10**-6, 200*10**-9)\n",
    "    return str(lambdaG/N*10**3)+\" mm\"\n",
    "\n",
    "find_resonator_length(f_rList, 10, 6, 2)"
   ]
  },
  {
   "cell_type": "code",
   "execution_count": 3,
   "id": "74203dc4",
   "metadata": {},
   "outputs": [
    {
     "data": {
      "text/plain": [
       "'[7.60792921 7.30653465 7.02000388 6.76260374] mm'"
      ]
     },
     "execution_count": 3,
     "metadata": {},
     "output_type": "execute_result"
    }
   ],
   "source": [
    "find_resonator_length(np.around(np.linspace(8, 9, 4),2), 10, 6, 2)"
   ]
  },
  {
   "cell_type": "code",
   "execution_count": 4,
   "id": "7074f41a",
   "metadata": {},
   "outputs": [],
   "source": [
    "chipX = 9\n",
    "chipY = 9\n",
    "\n",
    "design.chips.main.size_x = str(chipX)+\"mm\"\n",
    "design.chips.main.size_y = str(chipY)+\"mm\"\n",
    "\n",
    "gui = MetalGUI(design)\n",
    "\n",
    "design.delete_all_components()"
   ]
  },
  {
   "cell_type": "code",
   "execution_count": 5,
   "id": "50eab7a5",
   "metadata": {},
   "outputs": [],
   "source": [
    "# basic parameters for inital cut\n",
    "C_JJ = 2\n",
    "\n",
    "pad_g = 30\n",
    "pad_w = 450\n",
    "pad_h = 150\n",
    "\n",
    "readout_g  = 30\n",
    "buslineL_g = 30\n",
    "buslineH_g = 30\n",
    "\n",
    "C_JJU = str(C_JJ)+\"fF\"\n",
    "pad_g = str(pad_g)+\"um\"\n",
    "pad_w = str(pad_w)+\"um\"\n",
    "pad_h = str(pad_h)+\"um\"\n",
    "\n",
    "readout_g  = str(readout_g)+\"um\"\n",
    "buslineL_g = str(buslineL_g)+\"um\"\n",
    "buslineH_g = str(buslineH_g)+\"um\"\n",
    "\n",
    "connector1_pads_options = dict(\n",
    "    cR = dict(loc_W=0, loc_H=1, pad_width='80 um', pad_gap=readout_g, pad_height='30 um'),  # readout resonator\n",
    "    cL = dict(loc_W=1, loc_H=-1, pad_width='80 um', pad_gap=buslineL_g, pad_height='30 um'), # bus line for lower frequency\n",
    "    cH = dict(loc_W=-1, loc_H=-1, pad_width='80 um', pad_gap=buslineH_g, pad_height='30 um') # bus line for higher frequency\n",
    ")\n",
    "connector2_pads_options = dict(\n",
    "    cR = dict(loc_W=0, loc_H=1, pad_width='80 um', pad_gap=readout_g, pad_height='30 um'),  # readout resonator\n",
    "    cL = dict(loc_W=1, loc_H=-1, pad_width='80 um', pad_gap=buslineL_g, pad_height='30 um'), # bus line for lower frequency\n",
    "    cH = dict(loc_W=-1, loc_H=-1, pad_width='80 um', pad_gap=buslineH_g, pad_height='30 um') # bus line for higher frequency\n",
    ")\n",
    "connector3_pads_options = dict(\n",
    "    cR = dict(loc_W=0, loc_H=1, pad_width='80 um', pad_gap=readout_g, pad_height='30 um'),  # readout resonator\n",
    "    cL = dict(loc_W=1, loc_H=-1, pad_width='80 um', pad_gap=buslineL_g, pad_height='30 um'), # bus line for lower frequency\n",
    "    cH = dict(loc_W=-1, loc_H=-1, pad_width='80 um', pad_gap=buslineH_g, pad_height='30 um') # bus line for higher frequency\n",
    ")\n",
    "connector4_pads_options = dict(\n",
    "    cR = dict(loc_W=0, loc_H=1, pad_width='80 um', pad_gap=readout_g, pad_height='30 um'),  # readout resonator\n",
    "    cL = dict(loc_W=1, loc_H=-1, pad_width='80 um', pad_gap=buslineL_g, pad_height='30 um'), # bus line for lower frequency\n",
    "    cH = dict(loc_W=-1, loc_H=-1, pad_width='80 um', pad_gap=buslineH_g, pad_height='30 um') # bus line for higher frequency\n",
    ")"
   ]
  },
  {
   "cell_type": "code",
   "execution_count": 6,
   "id": "f21dc911",
   "metadata": {},
   "outputs": [],
   "source": [
    "# target f: 5.25 \n",
    "connection1_pads_options = dict(\n",
    "    B1 = dict(loc_W=1, loc_H=-1),\n",
    "    R= dict(loc_W=1, loc_H=1),\n",
    "    B2 = dict(loc_W=-1, loc_H=-1)\n",
    ")\n",
    "\n",
    "Q1 = TransmonPocketCL(design, 'Q1',\n",
    "                      options=dict(pos_x=f'0mm',\n",
    "                                   pos_y=f'0mm',\n",
    "                                   pad_gap = pad_g,\n",
    "                                   pad_width = pad_w,\n",
    "                                   pad_height = pad_h,\n",
    "                                   orientation=0,\n",
    "                                   connection_pads=dict(**connection1_pads_options)))\n",
    "\n",
    "gui.rebuild()\n",
    "gui.autoscale()"
   ]
  },
  {
   "cell_type": "code",
   "execution_count": 7,
   "id": "31e3a338",
   "metadata": {},
   "outputs": [
    {
     "name": "stderr",
     "output_type": "stream",
     "text": [
      "INFO 09:30PM [connect_project]: Connecting to Ansys Desktop API...\n",
      "INFO 09:30PM [load_ansys_project]: \tOpened Ansys App\n",
      "INFO 09:30PM [load_ansys_project]: \tOpened Ansys Desktop v2021.1.0\n",
      "INFO 09:30PM [load_ansys_project]: \tOpened Ansys Project\n",
      "\tFolder:    C:/Users/sunpark/Documents/Ansoft/\n",
      "\tProject:   Project48\n",
      "INFO 09:30PM [connect_design]: No active design found (or error getting active design).\n",
      "INFO 09:30PM [connect]: \t Connected to project \"Project48\". No design detected\n"
     ]
    },
    {
     "data": {
      "text/plain": [
       "True"
      ]
     },
     "execution_count": 7,
     "metadata": {},
     "output_type": "execute_result"
    }
   ],
   "source": [
    "from qiskit_metal.analyses.quantization import EPRanalysis\n",
    "eig_qres = EPRanalysis(design, \"hfss\")\n",
    "hfss = eig_qres.sim.renderer\n",
    "hfss.start()"
   ]
  },
  {
   "cell_type": "code",
   "execution_count": 8,
   "id": "f17d0eb1",
   "metadata": {},
   "outputs": [
    {
     "name": "stderr",
     "output_type": "stream",
     "text": [
      "09:30PM 26s WARNING [activate_ansys_design]: The design_name=Q1Readout was not in active project.  Designs in active project are: \n",
      "[].  A new design will be added to the project.  \n",
      "INFO 09:30PM [connect_design]: \tOpened active design\n",
      "\tDesign:    Q1Readout [Solution type: Eigenmode]\n",
      "WARNING 09:30PM [connect_setup]: \tNo design setup detected.\n",
      "WARNING 09:30PM [connect_setup]: \tCreating eigenmode default setup.\n",
      "INFO 09:30PM [get_setup]: \tOpened setup `Setup`  (<class 'pyEPR.ansys.HfssEMSetup'>)\n",
      "INFO 09:30PM [analyze]: Analyzing setup Setup\n"
     ]
    },
    {
     "name": "stdout",
     "output_type": "stream",
     "text": [
      "\n",
      "Number of eigenmodes to find             = 1\n",
      "Number of simulation passes              = 10\n",
      "Convergence freq max delta percent diff  = 0.1\n",
      "\n"
     ]
    }
   ],
   "source": [
    "hfss.activate_ansys_design(\"Q1Readout\", 'eigenmode')\n",
    "\n",
    "hfss.render_design(['Q1'], [])\n",
    "\n",
    "# Analysis properties\n",
    "setup = hfss.pinfo.setup\n",
    "setup.n_modes = 1\n",
    "setup.passes = 10\n",
    "setup.box_plus_buffer =True\n",
    "print(f\"\"\"\n",
    "Number of eigenmodes to find             = {setup.n_modes}\n",
    "Number of simulation passes              = {setup.passes}\n",
    "Convergence freq max delta percent diff  = {setup.delta_f}\n",
    "\"\"\")\n",
    "\n",
    "pinfo = hfss.pinfo\n",
    "pinfo.design.set_variable('Lj', str(L_JJList[0])+'nH')\n",
    "pinfo.design.set_variable('Cj', C_JJU)\n",
    "\n",
    "setup.analyze()"
   ]
  },
  {
   "cell_type": "code",
   "execution_count": 9,
   "id": "0a45b6d8",
   "metadata": {},
   "outputs": [
    {
     "name": "stderr",
     "output_type": "stream",
     "text": [
      "09:31PM 45s INFO [get_f_convergence]: Saved convergences to C:\\Users\\sunpark\\Documents\\GitHub\\qiskitHackathon2022\\projectB\\hfss_eig_f_convergence.csv\n"
     ]
    }
   ],
   "source": [
    "eig_qres.sim.convergence_t, eig_qres.sim.convergence_f, _ = hfss.get_convergences()\n",
    "eig_qres.sim.plot_convergences()"
   ]
  },
  {
   "cell_type": "code",
   "execution_count": 10,
   "id": "c504adc8",
   "metadata": {},
   "outputs": [
    {
     "name": "stdout",
     "output_type": "stream",
     "text": [
      "Design \"Q1Readout\" info:\n",
      "\t# eigenmodes    1\n",
      "\t# variations    1\n",
      "<pyEPR.core_distributed_analysis.DistributedAnalysis object at 0x0000024B34C74BE0>\n",
      "\n",
      "ℰ_elec_all       = 1.34473606933356e-24\n",
      "ℰ_elec_substrate = 1.23844721126538e-24\n",
      "EPR of substrate = 92.1%\n",
      "\n",
      "ℰ_mag_all       = 8.06931704387712e-27\n",
      "ℰ_mag % of ℰ_elec_all  = 0.6%\n",
      "\n"
     ]
    }
   ],
   "source": [
    "import pyEPR as epr\n",
    "\n",
    "pinfo = hfss.pinfo\n",
    "pinfo.junctions['jj'] = {'Lj_variable': 'Lj', 'rect': 'JJ_rect_Lj_Q1_rect_jj',\n",
    "                             'line': 'JJ_Lj_Q1_rect_jj_',  'Cj_variable': 'Cj'}\n",
    "pinfo.validate_junction_info() # Check that valid names of variables and objects have been supplied\n",
    "pinfo.dissipative['dielectrics_bulk'] = ['main'] # Dissipative elements: specify\n",
    "\n",
    "eprd = epr.DistributedAnalysis(pinfo)\n",
    "\n",
    "print(eprd)\n",
    "\n",
    "ℰ_elec = eprd.calc_energy_electric()\n",
    "ℰ_elec_substrate = eprd.calc_energy_electric(None, 'main')\n",
    "ℰ_mag = eprd.calc_energy_magnetic()\n",
    "\n",
    "print(f\"\"\"\n",
    "ℰ_elec_all       = {ℰ_elec}\n",
    "ℰ_elec_substrate = {ℰ_elec_substrate}\n",
    "EPR of substrate = {ℰ_elec_substrate / ℰ_elec * 100 :.1f}%\n",
    "\n",
    "ℰ_mag_all       = {ℰ_mag}\n",
    "ℰ_mag % of ℰ_elec_all  = {ℰ_mag / ℰ_elec * 100 :.1f}%\n",
    "\"\"\")"
   ]
  },
  {
   "cell_type": "code",
   "execution_count": 11,
   "id": "df90270c",
   "metadata": {},
   "outputs": [
    {
     "name": "stdout",
     "output_type": "stream",
     "text": [
      "\n",
      "Variation 0  [1/1]\n",
      "\n",
      "  \u001b[1mMode 0 at 5.56 GHz   [1/1]\u001b[0m\n",
      "    Calculating ℰ_magnetic,ℰ_electric\n",
      "       (ℰ_E-ℰ_H)/ℰ_E       ℰ_E       ℰ_H\n",
      "               99.4%  6.724e-25 4.035e-27\n",
      "\n",
      "    Calculating junction energy participation ration (EPR)\n",
      "\tmethod=`line_voltage`. First estimates:\n",
      "\tjunction        EPR p_0j   sign s_0j    (p_capacitive)\n",
      "\t\tEnergy fraction (Lj over Lj&Cj)= 96.98%\n",
      "\tjj              0.779194  (+)        0.0242405\n",
      "\t\t(U_tot_cap-U_tot_ind)/mean=13.21%\n",
      "Calculating Qdielectric_main for mode 0 (0/0)\n",
      "p_dielectric_main_0 = 0.9209593164844193\n"
     ]
    },
    {
     "name": "stderr",
     "output_type": "stream",
     "text": [
      "WARNING 09:31PM [__init__]: <p>Error: <class 'IndexError'></p>\n",
      "ERROR 09:31PM [_get_participation_normalized]: WARNING: U_tot_cap-U_tot_ind / mean = 26.4% is > 15%.                     \n",
      "Is the simulation converged? Proceed with caution\n",
      "ERROR 09:31PM [_get_participation_normalized]: WARNING: U_tot_cap-U_tot_ind / mean = 26.4% is > 15%.                     \n",
      "Is the simulation converged? Proceed with caution\n"
     ]
    },
    {
     "name": "stdout",
     "output_type": "stream",
     "text": [
      "\n",
      "ANALYSIS DONE. Data saved to:\n",
      "\n",
      "C:\\data-pyEPR\\Project48\\Q1Readout\\2022-02-09 21-31-46.npz\n",
      "\n",
      "\n",
      "\t Differences in variations:\n",
      "\n",
      "\n",
      "\n",
      " . . . . . . . . . . . . . . . . . . . . . . . . . . . . . . . . . . . . . . . . \n",
      "Variation 0\n",
      "\n",
      "Starting the diagonalization\n",
      "Finished the diagonalization\n",
      "Pm_norm=\n",
      "modes\n",
      "0    1.305769\n",
      "dtype: float64\n",
      "\n",
      "Pm_norm idx =\n",
      "     jj\n",
      "0  True\n",
      "*** P (participation matrix, not normlz.)\n",
      "         jj\n",
      "0  0.760753\n",
      "\n",
      "*** S (sign-bit matrix)\n",
      "   s_jj\n",
      "0     1\n",
      "*** P (participation matrix, normalized.)\n",
      "      0.99\n",
      "\n",
      "*** Chi matrix O1 PT (MHz)\n",
      "    Diag is anharmonicity, off diag is full cross-Kerr.\n",
      "       297\n",
      "\n",
      "*** Chi matrix ND (MHz) \n",
      "       335\n",
      "\n",
      "*** Frequencies O1 PT (MHz)\n",
      "0    5263.885533\n",
      "dtype: float64\n",
      "\n",
      "*** Frequencies ND (MHz)\n",
      "0    5245.862675\n",
      "dtype: float64\n",
      "\n",
      "*** Q_coupling\n",
      "Empty DataFrame\n",
      "Columns: []\n",
      "Index: [0]\n"
     ]
    },
    {
     "data": {
      "text/plain": [
       "OrderedDict([('0',\n",
       "              OrderedDict([('f_0', 0    5561.203589\n",
       "                            Name: 0, dtype: float64),\n",
       "                           ('f_1', 0    5263.885533\n",
       "                            dtype: float64),\n",
       "                           ('f_ND',\n",
       "                            0    5245.862675\n",
       "                            dtype: float64),\n",
       "                           ('chi_O1',\n",
       "                                        0\n",
       "                            0  297.318056),\n",
       "                           ('chi_ND',\n",
       "                                        0\n",
       "                            0  334.534008),\n",
       "                           ('ZPF', array([[0.46398218]])),\n",
       "                           ('Pm_normed', array([[0.99336736]])),\n",
       "                           ('Pm_raw',\n",
       "                            0    0.760753\n",
       "                            Name: jj, dtype: float64),\n",
       "                           ('_Pm_norm',\n",
       "                            modes\n",
       "                            0    1.305769\n",
       "                            dtype: float64),\n",
       "                           ('_Pm_cap_norm',\n",
       "                            modes\n",
       "                            0    4.449992\n",
       "                            dtype: float64),\n",
       "                           ('hfss_variables',\n",
       "                            _Cj        2fF\n",
       "                            _Lj    12.74nH\n",
       "                            Name: 0, dtype: object),\n",
       "                           ('Ljs',\n",
       "                            jj    1.274000e-08\n",
       "                            Name: 0, dtype: float64),\n",
       "                           ('Cjs',\n",
       "                            jj    2.000000e-15\n",
       "                            Name: 0, dtype: float64),\n",
       "                           ('Q_coupling',\n",
       "                            Empty DataFrame\n",
       "                            Columns: []\n",
       "                            Index: [0]),\n",
       "                           ('Qs',\n",
       "                            0    inf\n",
       "                            Name: 0, dtype: float64),\n",
       "                           ('fock_trunc', 7),\n",
       "                           ('cos_trunc', 8)]))])"
      ]
     },
     "execution_count": 11,
     "metadata": {},
     "output_type": "execute_result"
    }
   ],
   "source": [
    "eprd.do_EPR_analysis()\n",
    "\n",
    "# 4a. Perform Hamiltonian spectrum post-analysis, building on mw solutions using EPR\n",
    "epra = epr.QuantumAnalysis(eprd.data_filename)\n",
    "epra.analyze_all_variations(cos_trunc = 8, fock_trunc = 7)"
   ]
  },
  {
   "cell_type": "code",
   "execution_count": 12,
   "id": "81ffe21a",
   "metadata": {},
   "outputs": [],
   "source": [
    "hfss.modeler._modeler.ShowWindow()\n",
    "hfss.plot_fields('main')"
   ]
  }
 ],
 "metadata": {
  "kernelspec": {
   "display_name": "qmetal",
   "language": "python",
   "name": "qmetal"
  },
  "language_info": {
   "codemirror_mode": {
    "name": "ipython",
    "version": 3
   },
   "file_extension": ".py",
   "mimetype": "text/x-python",
   "name": "python",
   "nbconvert_exporter": "python",
   "pygments_lexer": "ipython3",
   "version": "3.9.7"
  }
 },
 "nbformat": 4,
 "nbformat_minor": 5
}
